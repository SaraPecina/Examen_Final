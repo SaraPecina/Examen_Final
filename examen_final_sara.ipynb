{
 "cells": [
  {
   "cell_type": "markdown",
   "metadata": {},
   "source": [
    "# Examen Final - Mortalidad Materna\n",
    "\n",
    "## Introducción \n",
    "\n",
    "La mortalidad infantil es una de las preocupaciones más grandes dentro del sector salud, por esto es que desde hace varias décadas se han implementado programas que ayudan a disminuir la misma. \n",
    "\n",
    "No obstante, nuestro país está lejos de alcanzar las bajas cifras de mortalidad infantil y preescolar de los países desarrollados.\n",
    "\n",
    "En el año 2000 la tasa anual de mortalidad infantil en nuestro país en menores de un año era de 20 por cada 1,000 nacidos vivos, y en menores de 5 años, de 16. En 2013 los decesos en menores de cinco años pasaron a 13.7 por cada mil. \n",
    "\n",
    "Es por esto, que revisar los indicadores sobre esta situación se vuelve crucial, para posteriormente identificar las estrategias existosas y poder trabajar con ellas.\n",
    "\n",
    " \n",
    "## Método de Resolución\n",
    " \n",
    "- Realizar observación de los elementos presentados.\n",
    "- Desarrollar preguntas e hipotesis sobre los mismos.\n",
    "- Trabajar con la resolución de problemas específicos.\n",
    "- Realizar un análisis específico de los resultados puntales.\n",
    "- Realizar un análisis global de los datos.\n",
    "- Presentar resultados finales.\n",
    "\n",
    "\n",
    "\n",
    "## Algoritmo general\n",
    "\n",
    "1.- Importar la paquetería necesaria para trabajar:\n",
    "    - Numpy\n",
    "    - Pandas\n",
    "    - Matplotlib\n",
    "    \n",
    "2.- Importar la base de datos general.\n",
    "\n",
    "3.- Análisis inicial:\n",
    "    - Datos relevantes\n",
    "    - Elementos irreleventes\n",
    "    - Elementos relacionados\n",
    "    \n",
    "4.- Establecer las preguntas a resolver de primer nivel\n",
    "\n",
    "5.- Establecer las preguntas a resolver de multivariables\n",
    "\n",
    "5.- Resolver una a una las preguntas que se han planteado.\n",
    "   - Realizar un análisis para cada una de las preguntas\n",
    "   \n",
    "6.- Realizar un análisis general del caso.\n",
    "\n",
    "\n",
    "\n"
   ]
  },
  {
   "cell_type": "markdown",
   "metadata": {},
   "source": [
    "   "
   ]
  },
  {
   "cell_type": "markdown",
   "metadata": {},
   "source": [
    "### 1.- Importación de paquetería\n",
    "Se importarán 3 librerías que son necesarias para el trabajo estadístico para Python:\n",
    "- Numpy que nos ayuda a realizar las operaciones matemáticas.\n",
    "- Pandas que ayuda a trabajar con las diferentes tablas, estadísticas y bases de datos.\n",
    "- Matplotlib que nos ayuda a trabajar con las gráficas correspondientes."
   ]
  },
  {
   "cell_type": "code",
   "execution_count": 2,
   "metadata": {},
   "outputs": [],
   "source": [
    "#Importación de librerías\n",
    "import numpy as np\n",
    "import pandas as pd\n",
    "import matplotlib.pyplot as plt"
   ]
  },
  {
   "cell_type": "markdown",
   "metadata": {},
   "source": [
    "### 2.- Importación de la base de datos\n",
    "Se realiza la importación de la base de datos, al ser una base grande, la misma no se podrá visualizar de manera completa, por lo que tendremos que segmentar la información poco a poco y descubrir los diferenes elementos de la misma."
   ]
  },
  {
   "cell_type": "code",
   "execution_count": 5,
   "metadata": {},
   "outputs": [],
   "source": [
    "#Importación de base de datos con la ayuda de pandas.\n",
    "Mortalidad = pd.read_csv(\"mortalidad.csv\", sep=',')"
   ]
  },
  {
   "cell_type": "markdown",
   "metadata": {},
   "source": [
    "### 3.- Análisis inicial\n",
    "En este análisis haremos una aproximación de la base de datos, para esto revisaremos:\n",
    "    - Revisión de encabezados\n",
    "    - Revisión de valores de las siguientes variables:\n",
    "        Edad cumplida\n",
    "        Descripción del estado conyugal\n",
    "        Tamaño de localidad\n",
    "        Localidad de ocurrencia\n",
    "        Descrición de la localidad de ocurrencia\n",
    "    - Revisión general de la variable edad de las madres cuando fallecieron los hijos. y Descripción estadística de la variable de la edad de las madres ¿Cuántas edades diferentes existen?.\n",
    "    - Revisión general de la variable años de defunción ¿Hay elementos a considerar en el mismo? ¿son correctos?\n",
    "    - Revisión de la variable escolaridad.  Enlistar los tipos de escolaridad existentes.\n",
    "    - Identificación de datos innecesarios o equivocados en la base de datos\n",
    "    - Revisión de la variable entidad.  Definir que entidad es la que cuenta con mayor número de muertes."
   ]
  },
  {
   "cell_type": "markdown",
   "metadata": {},
   "source": [
    "#### Revisión de encabezados\n",
    "Lo primero que vamos a hacer, es hacer una revisión de los encabezados, lo que nos permitirá conocer la base de datos y aproximarnos a la información que contiene, para esto hacemos lo siguiente:"
   ]
  },
  {
   "cell_type": "code",
   "execution_count": 36,
   "metadata": {},
   "outputs": [
    {
     "name": "stdout",
     "output_type": "stream",
     "text": [
      "Esta primera aproximación nos hace conocer algunas variables muy importantes, como sería: Día de nacimiento, Mes de nacimiento, año de nacimiento, Año de la defunción, Mes de la defunción, Día de la defunción, Genero, Edad Cumplida, Estado conyugal, Entidad de residencia, Año de la base de datos, Descripción de la razón de la mortalidad materna\n",
      "Empty DataFrame\n",
      "Columns: [Año de nacimiento, Mes de nacimiento, Descripción del mes de nacimiento, Día de nacimiento, Genero, Clave de la edad, Edad cumplida, Estado conyugal, Descripción del estado conyugal, Entidad de residencia, Descripción de entidad de residencia, Municipio de residencia, Descripción del municipio de residencia, Localidad de residencia, Descripión de la localidad de residencia, Tamaño de localidad, Descripción del tamaño de localidad, Ocupación habitual, Descripción de la ocupación habitual, Escolaridad, Descripción de la escolaridad, Derechiahabiencia, Descrición de la derechiahabiencia, Entidad de ocurrencia, Descripción de la entidad de ocurrencia, Municipio de ocurrencia, Descrición del municipio de ocurrencia, Localidad de ocurrencia, Descrición de la localidad de ocurrencia, Sitio donde ocurrio la defunción, Descripción del sitio donde ocurrio la defunción, Año de la defunción, Mes de la defunción, Descrición del mes de la defunción, Día de la defunción, Hora de la defunción, Minutos de la defunción, Asistencia médica, Descripción de la asistencia médica, Causa CIE a  cuarto dígito, Descrición de la causa CIE, Quien certificó, Descrición de quien certificó, Entidad de registro, Descrición de la entidad de registro, Municipio de registro, Descrición del municipio de registro, Año de registro, Mes de registro, Descripción del mes de registro, Día de registro, Año de la certificación, Mes de la certificación, Descripció del mes de la certificación, Día de la certificación, Año de la base de datos, Razón de mortalidad materna, Descrición de la razón de mortalidad materna]\n",
      "Index: []\n",
      "\n",
      "[0 rows x 58 columns]\n"
     ]
    }
   ],
   "source": [
    "#Con esta función nos traemos solamente los encabezados al limitarla a un solo renglón.\n",
    "\n",
    "\n",
    "print(\"Esta primera aproximación nos hace conocer algunas variables muy importantes, como sería: Día de nacimiento, Mes de nacimiento, año de nacimiento, Año de la defunción, Mes de la defunción, Día de la defunción, Genero, Edad Cumplida, Estado conyugal, Entidad de residencia, Año de la base de datos, Descripción de la razón de la mortalidad materna\") \n",
    "\n",
    "print(Mortalidad.head(0))"
   ]
  },
  {
   "cell_type": "markdown",
   "metadata": {},
   "source": [
    "### Revisión de valores de las siguientes variables:\n",
    "        Edad cumplida\n",
    "        Descripción del estado conyugal\n",
    "        Tamaño de localidad\n",
    "        Localidad de ocurrencia\n",
    "        Descrpición de la localidad de ocurrencia\n",
    "\n",
    "Esta aproximación nos permitirá revisar la manera en que estas variables situacionales se están comportando dentro de nuestros registros, para esto harémos primero una revisión de los valores que contienen y de la manera en que se comportan.\n",
    "\n",
    "- Edad cumplida\n",
    "Al ser una variable de tipo numérica, vamos a revisar su descripción estadística."
   ]
  },
  {
   "cell_type": "code",
   "execution_count": 37,
   "metadata": {},
   "outputs": [
    {
     "name": "stdout",
     "output_type": "stream",
     "text": [
      "Esta variable nos habla de la edad de la madre, pero no aclara si es al momento del nacimiento o de la defunción.  Para este caso, inferiremos que se trata de la edad al fallercer el niño. Para esto sabemos que la edad media de las madres es de poco menos de 30 años; destacando que tenemos algunos datos fuera del rango, pues la maxima nos aparece con 998, razón por la que se debería limpiar la base de datos para tener registros más confiables. En este caso, destacaremos la edad mínima de 11 años y los rangos, donde nos dicen que el 25% tiene menos de 22 años, otro 25 porciento se encuentra entre 28 y 22 años y otro 25% se encuentra entre 28 y 34 años; el resto, tendría más de 34 años.\n"
     ]
    },
    {
     "data": {
      "text/plain": [
       "count    17232.000000\n",
       "mean        29.765727\n",
       "std         36.916010\n",
       "min         11.000000\n",
       "25%         22.000000\n",
       "50%         28.000000\n",
       "75%         34.000000\n",
       "max        998.000000\n",
       "Name: Edad cumplida, dtype: float64"
      ]
     },
     "execution_count": 37,
     "metadata": {},
     "output_type": "execute_result"
    }
   ],
   "source": [
    "print(\"Esta variable nos habla de la edad de la madre, pero no aclara si es al momento del nacimiento o de la defunción.  Para este caso, inferiremos que se trata de la edad al fallercer el niño. Para esto sabemos que la edad media de las madres es de poco menos de 30 años; destacando que tenemos algunos datos fuera del rango, pues la maxima nos aparece con 998, razón por la que se debería limpiar la base de datos para tener registros más confiables. En este caso, destacaremos la edad mínima de 11 años y los rangos, donde nos dicen que el 25% tiene menos de 22 años, otro 25 porciento se encuentra entre 28 y 22 años y otro 25% se encuentra entre 28 y 34 años; el resto, tendría más de 34 años.\")\n",
    "\n",
    "# Con esta función nos deplegará la estadística básica de la edad cumplida al momento de fallecer el niño.\n",
    "Mortalidad[\"Edad cumplida\"].describe()"
   ]
  },
  {
   "cell_type": "markdown",
   "metadata": {},
   "source": [
    "- Descripción del estado conyugal\n",
    "Al ser una variable de texto, lo que haremos para conocer la misma, es destacar los valores que se comprenden en la misma."
   ]
  },
  {
   "cell_type": "code",
   "execution_count": 23,
   "metadata": {},
   "outputs": [
    {
     "name": "stdout",
     "output_type": "stream",
     "text": [
      "8\n",
      "Como podemos visualizar existen 8 valores a considerar dentro de nuestra base de datos: Casado, Se ignora, Separado, Divorciado, Unión Libre, Soltero, Viudo y no se aplica para menores de 12 años.  Esta información nos servirá para buscar si existe una conexión entre el estado matrimonial y la incidencia de casos de mortalidad. \n"
     ]
    },
    {
     "data": {
      "text/plain": [
       "array(['CASADO', 'SE IGNORA', 'SEPARADO', 'DIVORCIADO', 'UNION LIBRE',\n",
       "       'SOLTERO', 'VIUDO', 'NO APLICA A MENORES DE 12 AÑOS'], dtype=object)"
      ]
     },
     "execution_count": 23,
     "metadata": {},
     "output_type": "execute_result"
    }
   ],
   "source": [
    "#Revisión de la columna Descripción del estado conyugal\n",
    "\n",
    "#Con esta función nos traemos la información de la longitud de la lista.\n",
    "print(len(Mortalidad[\"Descripción del estado conyugal\"].unique()))\n",
    "\n",
    "#Imprimimos el análisis inicial de esta variable.\n",
    "print(\"Como podemos visualizar existen 8 valores a considerar dentro de nuestra base de datos: Casado, Se ignora, Separado, Divorciado, Unión Libre, Soltero, Viudo y no se aplica para menores de 12 años.  Esta información nos servirá para buscar si existe una conexión entre el estado matrimonial y la incidencia de casos de mortalidad. \")\n",
    "Mortalidad[\"Descripción del estado conyugal\"].unique()"
   ]
  },
  {
   "cell_type": "code",
   "execution_count": null,
   "metadata": {},
   "outputs": [],
   "source": [
    "- Tamaño de localidad\n",
    "De igual manera, se busca una aproximación a la variable, estableciendo sus parámetros. "
   ]
  },
  {
   "cell_type": "code",
   "execution_count": 29,
   "metadata": {},
   "outputs": [
    {
     "name": "stdout",
     "output_type": "stream",
     "text": [
      "18\n",
      "Como podemos visualizar existen 18 valores, pero al ser númericos no nos aportan mucha información, por lo que adelante trabajaremos con al descripción de este parámetro. \n"
     ]
    },
    {
     "data": {
      "text/plain": [
       "array([ 9,  4,  1,  0, 12, 15, 13,  3, 14,  6, 10,  5,  2,  8,  7, 11, 17,\n",
       "       16])"
      ]
     },
     "execution_count": 29,
     "metadata": {},
     "output_type": "execute_result"
    }
   ],
   "source": [
    "#Revisión de la columna Tamaño de la localidad\n",
    "\n",
    "#Con esta función nos traemos la información de la longitud de la lista.\n",
    "print(len(Mortalidad[\"Tamaño de localidad\"].unique()))\n",
    "\n",
    "#Imprimimos el análisis inicial de esta variable.\n",
    "print(\"Como podemos visualizar existen 18 valores, pero al ser númericos no nos aportan mucha información, por lo que adelante trabajaremos con al descripción de este parámetro. \")\n",
    "Mortalidad[\"Tamaño de localidad\"].unique()"
   ]
  },
  {
   "cell_type": "code",
   "execution_count": 31,
   "metadata": {},
   "outputs": [
    {
     "name": "stdout",
     "output_type": "stream",
     "text": [
      "20\n",
      "Como podemos observar, aquí nos proporcina rangos, donde cada rango tiene un número de identidad asociado a través de la variable Tamaño de Localidad. \n"
     ]
    },
    {
     "data": {
      "text/plain": [
       "array(['30000 a 39999   habitantes', '2500 a 4999    habitantes',\n",
       "       '1 a 999            habitantes', 'No Especificado.',\n",
       "       '75000 a 99999   habitantes', '500000 a 999999  habitantes',\n",
       "       '100000 a 249999 habitantes', '2000 a 2499    habitantes',\n",
       "       '250000 a 499999 habitantes', '10000 a 14999  habitantes',\n",
       "       '40000 a 49999   habitantes', '5000 a 9999    habitantes',\n",
       "       '1000 a 1999    habitantes', '20000 a 29999   habitantes',\n",
       "       '15000 a 19999   habitantes', '50000 a 74999   habitantes',\n",
       "       '1500000 y más habitantes', '1000000 a 1499999  habitantes',\n",
       "       'De 30 000 a 39 999 habitantes', 'No especificado.'], dtype=object)"
      ]
     },
     "execution_count": 31,
     "metadata": {},
     "output_type": "execute_result"
    }
   ],
   "source": [
    "#Revisión de la columna Tamaño de la localidad\n",
    "\n",
    "#Con esta función nos traemos la información de la longitud de la lista.\n",
    "print(len(Mortalidad[\"Descripción del tamaño de localidad\"].unique()))\n",
    "\n",
    "#Imprimimos el análisis inicial de esta variable.\n",
    "print(\"Como podemos observar, aquí nos proporciona rangos, donde cada rango tiene un número de identidad asociado a través de la variable Tamaño de Localidad. \")\n",
    "Mortalidad[\"Descripción del tamaño de localidad\"].unique()\n",
    "\n"
   ]
  },
  {
   "cell_type": "code",
   "execution_count": 33,
   "metadata": {},
   "outputs": [
    {
     "name": "stdout",
     "output_type": "stream",
     "text": [
      "368\n",
      "Al igual que el caso anterior, esta información no nos sirve, si no contamos con el descriptor de la misma. \n"
     ]
    },
    {
     "data": {
      "text/plain": [
       "array([   1,    0,  126,  656,  312,  447,  109,  118,   28,  157,   29,\n",
       "         85,    4,   48,   26,   36,   22,  987,   99,    2,   12,   20,\n",
       "         38,  113,  130,  289,   16,  110,   93,  392,   27,   81,   43,\n",
       "         42,   97,   13,    9,  340,   47,  302,   17,   46,   33,   35,\n",
       "        940,   62,   14,   21,    8,   31,  196,   40,   45,    7,   34,\n",
       "         64,   41,  200,  104,   44,   30,   25,   65,   89,    6,  193,\n",
       "        525,   32,  298,   24,  127,  134,   15,   11,    3,  103,  241,\n",
       "         10,  435,  139,  799,  197,   61,   18,    5,  350,  114,  169,\n",
       "        135,   67,  128,  267,   23,  478,   19,   53,   51,   54,   58,\n",
       "         66,  145, 3515,   55,   95,  119,  235,  186,  111,   50,  175,\n",
       "        252,  301,   82,   98,   69,  164,  129,   52,  520,  601,  669,\n",
       "        871,  112,   39,   68,  546, 1496,  131,  100,  161,   37,  180,\n",
       "        140,  183,  101,  332,   92,  176,   84,  345,  620,  198,  900,\n",
       "         57,  116,  138,  459,  250,  178,   86,  177,   71,  158,  351,\n",
       "        239,   76,  246,  137,   73,  642,  541,   70,  121,   74,  556,\n",
       "        151,  752,  420,  184,   87,  122,  306,   79,  204,  885,  242,\n",
       "        124,  334,  133,   60,   72,  108, 1107,  202,  187,  583,  254,\n",
       "        294,  224,  655,  173,  551, 1076,  553,  203,  212,  146,  464,\n",
       "         78,  125,   96,   75,  141,  314,  136,  484,   83,  537,  284,\n",
       "        206,  516,  165, 1175,  261,   88,  559,   59,  809, 1922,  143,\n",
       "        160,  357,  288,  156,   49, 1314,  120,  803, 1399,  430,  444,\n",
       "        408,  310,  535,  278,  855,  132,  105, 1106,  192,  405,  360,\n",
       "         77,  499,  397, 1328, 1150,  168,  341, 1109,  313,  635,  201,\n",
       "       2489, 1771,  875,  191,  166,  167,  153,  107,   94,  292,  221,\n",
       "        663,  223, 1750,  182,  236, 1004, 1156,  410,  641,  222,  664,\n",
       "        209,  792,  834,  162,  330,  448, 1371, 2514,  211,  586,  188,\n",
       "        569,  155,  566,  776,  575,  722, 1689,  533, 1017,   90,  377,\n",
       "       1291,  613,  144,  117,  303,  538,  102,  544,  154,  412,  329,\n",
       "        488,  344,  614,   63, 1181, 2472,  148,  276,  163,  268, 1238,\n",
       "        346,  989, 1600,  817, 1054,  190,  152,  450,  194,  462,  296,\n",
       "        248,  643,  106,  510,  857,  226,  174,  243, 1630,  244,  238,\n",
       "        363,  710,  290, 1391, 1754,   80,  474,  233,  305,  274,  945,\n",
       "       1232,  683,  271,  216,  426,  808,  910,  123,  171,  251,  659,\n",
       "        225,  229,  588,  467,  325])"
      ]
     },
     "execution_count": 33,
     "metadata": {},
     "output_type": "execute_result"
    }
   ],
   "source": [
    "#Revisión de la columna Tamaño de la localidad\n",
    "\n",
    "#Con esta función nos traemos la información de la longitud de la lista.\n",
    "print(len(Mortalidad[\"Localidad de ocurrencia\"].unique()))\n",
    "\n",
    "#Imprimimos el análisis inicial de esta variable.\n",
    "print(\"Al igual que el caso anterior, esta información no nos sirve, si no contamos con el descriptor de la misma. \")\n",
    "Mortalidad[\"Localidad de ocurrencia\"].unique()\n",
    "\n"
   ]
  },
  {
   "cell_type": "code",
   "execution_count": 35,
   "metadata": {},
   "outputs": [
    {
     "name": "stdout",
     "output_type": "stream",
     "text": [
      "2915\n",
      "Como podemos observar, aquí nos proporciona información sobre la localidad donde se presentó la defunción, es importante identificar que este dato puede dividirse en dos columnas, una de identificador y otra de nombre del lugar, se incluye de esta manera para evitar duplicados por nombres semejantes. \n"
     ]
    },
    {
     "data": {
      "text/plain": [
       "array(['311020001 Valladolid', '310500001 Mérida', '310560001 Oxkutzcab',\n",
       "       ..., '301750097 Ojo de Agua', '310530001 Muna', '320370001 Pánuco'],\n",
       "      dtype=object)"
      ]
     },
     "execution_count": 35,
     "metadata": {},
     "output_type": "execute_result"
    }
   ],
   "source": [
    "#Revisión de la columna Descripción de la localidad de ocurrencia\n",
    "\n",
    "#Con esta función nos traemos la información de la longitud de la lista.\n",
    "print(len(Mortalidad[\"Descrición de la localidad de ocurrencia\"].unique()))\n",
    "\n",
    "#Imprimimos el análisis inicial de esta variable.\n",
    "print(\"Como podemos observar, aquí nos proporciona información sobre la localidad donde se presentó la defunción, es importante identificar que este dato puede dividirse en dos columnas, una de identificador y otra de nombre del lugar, se incluye de esta manera para evitar duplicados por nombres semejantes. \")\n",
    "Mortalidad[\"Descrición de la localidad de ocurrencia\"].unique()"
   ]
  },
  {
   "cell_type": "markdown",
   "metadata": {},
   "source": [
    "#### Revisión general de la variable edad de las madres cuando fallecieron los hijos.\n",
    "\n",
    "Para esta variable trabajaremos con los datos estadísticos en primer lugar y posteriormente revisaremos los valores presentados."
   ]
  },
  {
   "cell_type": "code",
   "execution_count": 38,
   "metadata": {},
   "outputs": [
    {
     "name": "stdout",
     "output_type": "stream",
     "text": [
      "Esta variable nos habla de la edad de la madre, pero no alcara si es al momento del nacimiento o de la defunción.  Para este caso, inferiremos que se trata de la edad al fallecer el niño. Para esto sabemos que la edad media de las madres es de poco menos de 30 años; destacando que tenemos algunos datos fuera del rango, pues la maxima nos aparece con 998, razón por la que se debería limpiar la base de datos para tener registros más confiables. En este caso, destacaremos la edad mínima de 11 años y los rangos, donde nos dicen que el 25% tiene menos de 22 años, otro 25 porciento se encuentra entre 28 y 22 años y otro 25% se encuentra entre 28 y 34 años; el resto, tendría más de 34 años.\n"
     ]
    },
    {
     "data": {
      "text/plain": [
       "count    17232.000000\n",
       "mean        29.765727\n",
       "std         36.916010\n",
       "min         11.000000\n",
       "25%         22.000000\n",
       "50%         28.000000\n",
       "75%         34.000000\n",
       "max        998.000000\n",
       "Name: Edad cumplida, dtype: float64"
      ]
     },
     "execution_count": 38,
     "metadata": {},
     "output_type": "execute_result"
    }
   ],
   "source": [
    "print(\"Esta variable nos habla de la edad de la madre, pero no alcara si es al momento del nacimiento o de la defunción.  Para este caso, inferiremos que se trata de la edad al fallecer el niño. Para esto sabemos que la edad media de las madres es de poco menos de 30 años; destacando que tenemos algunos datos fuera del rango, pues la maxima nos aparece con 998, razón por la que se debería limpiar la base de datos para tener registros más confiables. En este caso, destacaremos la edad mínima de 11 años y los rangos, donde nos dicen que el 25% tiene menos de 22 años, otro 25 porciento se encuentra entre 28 y 22 años y otro 25% se encuentra entre 28 y 34 años; el resto, tendría más de 34 años.\")\n",
    "\n",
    "# Con esta función nos deplegará la estadística básica de la edad cumplida al momento de fallecer el niño.\n",
    "Mortalidad[\"Edad cumplida\"].describe()"
   ]
  },
  {
   "cell_type": "code",
   "execution_count": 40,
   "metadata": {},
   "outputs": [
    {
     "name": "stdout",
     "output_type": "stream",
     "text": [
      "50\n",
      "Como podemos observar, aquí nos proporciona información sobre las 50 edades que se presentan en esta lista, destacando valores por debajo de los 18 años y un valor fuera de rango de 998. \n"
     ]
    },
    {
     "data": {
      "text/plain": [
       "array([ 29,  35,  36,  30,  20,  27,  43,  31,  39,  45,  42,  17,  38,\n",
       "        26,  21,  22,  40,  44,  34,  41,  33,  13,  24,  25,  37,  19,\n",
       "        23,  32,  28, 998,  15,  46,  48,  16,  18,  12,  47,  14,  51,\n",
       "        50,  54,  49,  11,  53,  81,  70,  82,  59,  86,  65])"
      ]
     },
     "execution_count": 40,
     "metadata": {},
     "output_type": "execute_result"
    }
   ],
   "source": [
    "#Revisión de la columna Edad cumplida\n",
    "\n",
    "#Con esta función nos traemos la información de la longitud de la lista.\n",
    "print(len(Mortalidad[\"Edad cumplida\"].unique()))\n",
    "\n",
    "#Imprimimos el análisis inicial de esta variable.\n",
    "print(\"Como podemos observar, aquí nos proporciona información sobre las 50 edades que se presentan en esta lista, destacando valores por debajo de los 18 años y un valor fuera de rango de 998. \")\n",
    "Mortalidad[\"Edad cumplida\"].unique()"
   ]
  },
  {
   "cell_type": "markdown",
   "metadata": {},
   "source": [
    "#### Revisión general de la variable años de defunción \n",
    "Para realizar este análisis estaremos trabajando de igual manera con los datos estadísticos y analizando los valores que se presentan.\n"
   ]
  },
  {
   "cell_type": "code",
   "execution_count": 42,
   "metadata": {},
   "outputs": [
    {
     "name": "stdout",
     "output_type": "stream",
     "text": [
      "En esta caso podemos apreciar que es una base de datos que en algunos casos no presenta este valor, pues el valor mínimo es 0.\n"
     ]
    },
    {
     "data": {
      "text/plain": [
       "count    17232.000000\n",
       "mean      2008.224466\n",
       "std         16.151184\n",
       "min          0.000000\n",
       "25%       2005.000000\n",
       "50%       2008.000000\n",
       "75%       2012.000000\n",
       "max       2016.000000\n",
       "Name: Año de la defunción, dtype: float64"
      ]
     },
     "execution_count": 42,
     "metadata": {},
     "output_type": "execute_result"
    }
   ],
   "source": [
    "print(\"En esta caso podemos apreciar que es una base de datos que en algunos casos no presenta este valor, pues el valor mínimo es 0.\")\n",
    "\n",
    "# Con esta función nos deplegará la estadística básica de la año de la defunción al momento de fallecer el niño.\n",
    "Mortalidad[\"Año de la defunción\"].describe()"
   ]
  },
  {
   "cell_type": "code",
   "execution_count": 45,
   "metadata": {},
   "outputs": [
    {
     "name": "stdout",
     "output_type": "stream",
     "text": [
      "69\n",
      "Como podemos observar en total tenemos 69 valores que incluyen desde el año 0 hasta el 2016. Aunque existen registros de décadas pasadas, los mismos representan menos de 25% de nuestros datos, incluyendo aquellos registros vacios, por lo que hay que tener cuidado al realizar el análisis de estas variables, pues generaría un sesgo al argumentar que la mayoría de los niños han muerto en la última década. \n"
     ]
    },
    {
     "data": {
      "text/plain": [
       "array([2002, 2005, 2003, 2008, 2013, 2012, 2009, 2010, 2011, 2004, 2006,\n",
       "       2007, 2001, 1979, 1989, 1974, 1964, 1982, 1959, 1990, 1980, 1994,\n",
       "       1977, 1976, 1938, 1970, 1949, 1997, 1956, 1961, 1957, 1985, 1975,\n",
       "       2000,    0, 1948, 1971, 1978, 1984, 1993, 1992, 1972, 1973, 1986,\n",
       "       1988, 1937, 1965, 1944, 1987, 1943, 1958, 1967, 1968, 1995, 1991,\n",
       "       1969, 1999, 1966, 1963, 1953, 1954, 1962, 1950, 1996, 2014, 2015,\n",
       "       1914, 1951, 2016])"
      ]
     },
     "execution_count": 45,
     "metadata": {},
     "output_type": "execute_result"
    }
   ],
   "source": [
    "#Revisión de la columna Año de la defunción\n",
    "\n",
    "#Con esta función nos traemos la información de la longitud de la lista.\n",
    "print(len(Mortalidad[\"Año de la defunción\"].unique()))\n",
    "\n",
    "#Imprimimos el análisis inicial de esta variable.\n",
    "print(\"Como podemos observar en total tenemos 69 valores que incluyen desde el año 0 hasta el 2016. Aunque existen registros de décadas pasadas, los mismos representan menos de 25% de nuestros datos, incluyendo aquellos registros vacios, por lo que hay que tener cuidado al realizar el análisis de estas variables, pues generaría un sesgo al argumentar que la mayoría de los niños han muerto en la última década. \")\n",
    "Mortalidad[\"Año de la defunción\"].unique()"
   ]
  },
  {
   "cell_type": "markdown",
   "metadata": {},
   "source": [
    "#### Revisión de la variable escolaridad\n",
    "\n",
    "Al igual que ne otras categorías textuales, estaremos revisando la cantidad de registros que aparecen y cuales son:"
   ]
  },
  {
   "cell_type": "code",
   "execution_count": 48,
   "metadata": {},
   "outputs": [
    {
     "name": "stdout",
     "output_type": "stream",
     "text": [
      "11\n",
      "En este caso, también nos arroga 11 registros que por si mismos no tienen valor, por lo que debemos hacer una revisión de la Descripción de Escolaridad. \n"
     ]
    },
    {
     "data": {
      "text/plain": [
       "array([ 2,  4,  7,  1,  5,  0, 10,  3,  6, 11, 12])"
      ]
     },
     "execution_count": 48,
     "metadata": {},
     "output_type": "execute_result"
    }
   ],
   "source": [
    "#Revisión de la columna Escolaridad\n",
    "\n",
    "#Con esta función nos traemos la información de la longitud de la lista.\n",
    "print(len(Mortalidad[\"Escolaridad\"].unique()))\n",
    "\n",
    "#Imprimimos el análisis inicial de esta variable.\n",
    "print(\"En este caso, también nos arroga 11 registros que por si mismos no tienen valor, por lo que debemos hacer una revisión de la Descripción de Escolaridad. \")\n",
    "Mortalidad[\"Escolaridad\"].unique()\n",
    "\n",
    "#Escolaridad, Descripción de la escolaridad,"
   ]
  },
  {
   "cell_type": "code",
   "execution_count": 50,
   "metadata": {},
   "outputs": [
    {
     "name": "stdout",
     "output_type": "stream",
     "text": [
      "12\n",
      "En este caso, nos arrojan 12 valores, ya que se incluye la opción de No específicado dos veces. Es necesario hacer una revisión entre la diferencia de estos dos elementos.\n"
     ]
    },
    {
     "data": {
      "text/plain": [
       "array(['PRIMARIA INCOMPLETA', 'SECUNDARIA INCOMPLETA', 'PROFESIONAL',\n",
       "       'NINGUNA', 'SECUNDARIA COMPLETA', 'NO ESPECIFICADO', 'POSGRADO',\n",
       "       'PRIMARIA COMPLETA', 'BACHILLERATO O PREPARATORIA COMPLETA',\n",
       "       'BACHILLERATO O PREPARATORIA INCOMPLETA', 'NO ESPECIFICADO\\r\\n',\n",
       "       'PREESCOLAR'], dtype=object)"
      ]
     },
     "execution_count": 50,
     "metadata": {},
     "output_type": "execute_result"
    }
   ],
   "source": [
    "#Revisión de la columna Descripción de la escolaridad\n",
    "\n",
    "#Con esta función nos traemos la información de la longitud de la lista.\n",
    "print(len(Mortalidad[\"Descripción de la escolaridad\"].unique()))\n",
    "\n",
    "#Imprimimos el análisis inicial de esta variable.\n",
    "print(\"En este caso, nos arrojan 12 valores, ya que se incluye la opción de No específicado dos veces. Es necesario hacer una revisión entre la diferencia de estos dos elementos.\")\n",
    "Mortalidad[\"Descripción de la escolaridad\"].unique()\n"
   ]
  },
  {
   "cell_type": "markdown",
   "metadata": {},
   "source": [
    "#### Identificación de datos innecesarios o equivocados en la base de datos\n",
    "Como ya hemos podido observar, esta base de datos es muy nutrida y por tanto, es fácil perderse entre la información necesaria o irrelevante.  \n",
    "Por esta razón nos abocaremos a identificar los elementos que son realmente necesarios para el análsis que vamos a realizar dentro de nuestro ejercicio:\n",
    "\n",
    "En primera instancia, descararemos las variables cuyo resultado es un código, pues son más difíciles de analizar al momento de realizar nuestro análisis. \n",
    "\n",
    "También es importante que consideremos que tanto las variables de Escolaridad, como Edad Cumplida y Años en general presentan valores fuera de rango, por lo que deberemos analizar el uso de los mismos de manera más segmentada.\n",
    "\n",
    "Para nuestro estudio en particular estaremos trabajando nuestro analisis desde dos perspectivas: Condiciones sociales del niño, elementos relacionados directamente con el fallecimiento.\n",
    "\n",
    "Para la primera aproximación estaremos utilizando variables como:\n",
    "Edad cumplida\n",
    "Descripción del estado conyugal\n",
    "Descripción de entidad de residencia\n",
    "Descripción del tamaño de localidad\n",
    "Descripción de la entidad de ocurrencia\n",
    "Descripción de la ocupación habitual\n",
    "Descripción de la escolaridad\n",
    "Descrición de la derechiahabiencia\n",
    "\n",
    "Para nuestra segunda aproximación estaremos utilizando las siguientes variables:\n",
    "Año de nacimiento\n",
    "Mes de nacimiento\n",
    "Día de nacimiento\n",
    "Genero\n",
    "Descripción del sitio donde ocurrio la defunción\n",
    "Año de la defunción\n",
    "Mes de la defunción\n",
    "Día de la defunción\n",
    "Hora de la defunción\n",
    "Minutos de la defunción\n",
    "Descripción de la asistencia médica\n",
    "Descrición de la causa CIE\n",
    "\n",
    "Esto para limitar nuestro análisis global sobre el entorno y la situación presentada."
   ]
  },
  {
   "cell_type": "markdown",
   "metadata": {},
   "source": [
    "### 4.- Establecer las preguntas a resolver de primer nivel\n",
    "\n",
    "Se realizarán dos bases de datos con información relevante para estas dos aproximaciones y en base a ellas se presentará tanto la información de los encabezados como el análsis simple de la información presentada.\n",
    "\n",
    "\n",
    "Para la primera aproximación estaremos utilizando variables como:\n",
    "Edad cumplida\n",
    "Descripción del estado conyugal\n",
    "Descripción de entidad de residencia\n",
    "Descripción del tamaño de localidad\n",
    "Descripción de la entidad de ocurrencia\n",
    "Descripción de la ocupación habitual\n",
    "Descripción de la escolaridad\n",
    "Descrición de la derechiahabiencia"
   ]
  },
  {
   "cell_type": "code",
   "execution_count": 56,
   "metadata": {},
   "outputs": [
    {
     "data": {
      "text/html": [
       "<div>\n",
       "<style scoped>\n",
       "    .dataframe tbody tr th:only-of-type {\n",
       "        vertical-align: middle;\n",
       "    }\n",
       "\n",
       "    .dataframe tbody tr th {\n",
       "        vertical-align: top;\n",
       "    }\n",
       "\n",
       "    .dataframe thead th {\n",
       "        text-align: right;\n",
       "    }\n",
       "</style>\n",
       "<table border=\"1\" class=\"dataframe\">\n",
       "  <thead>\n",
       "    <tr style=\"text-align: right;\">\n",
       "      <th></th>\n",
       "      <th>Edad cumplida</th>\n",
       "      <th>Descripción del estado conyugal</th>\n",
       "      <th>Descripción de entidad de residencia</th>\n",
       "      <th>Descripción del tamaño de localidad</th>\n",
       "      <th>Descripción de la ocupación habitual</th>\n",
       "      <th>Descripción de la escolaridad</th>\n",
       "      <th>Descrición de la derechiahabiencia</th>\n",
       "      <th>Descripción de la entidad de ocurrencia</th>\n",
       "    </tr>\n",
       "  </thead>\n",
       "  <tbody>\n",
       "    <tr>\n",
       "      <th>0</th>\n",
       "      <td>29</td>\n",
       "      <td>CASADO</td>\n",
       "      <td>Yucatán</td>\n",
       "      <td>30000 a 39999   habitantes</td>\n",
       "      <td>NO OCUPADOS</td>\n",
       "      <td>PRIMARIA INCOMPLETA</td>\n",
       "      <td>NINGUNA</td>\n",
       "      <td>Yucatán</td>\n",
       "    </tr>\n",
       "    <tr>\n",
       "      <th>1</th>\n",
       "      <td>35</td>\n",
       "      <td>CASADO</td>\n",
       "      <td>Yucatán</td>\n",
       "      <td>30000 a 39999   habitantes</td>\n",
       "      <td>NO OCUPADOS</td>\n",
       "      <td>PRIMARIA INCOMPLETA</td>\n",
       "      <td>NINGUNA</td>\n",
       "      <td>Yucatán</td>\n",
       "    </tr>\n",
       "    <tr>\n",
       "      <th>2</th>\n",
       "      <td>29</td>\n",
       "      <td>CASADO</td>\n",
       "      <td>Yucatán</td>\n",
       "      <td>2500 a 4999    habitantes</td>\n",
       "      <td>NO OCUPADOS</td>\n",
       "      <td>PRIMARIA INCOMPLETA</td>\n",
       "      <td>NINGUNA</td>\n",
       "      <td>Yucatán</td>\n",
       "    </tr>\n",
       "    <tr>\n",
       "      <th>3</th>\n",
       "      <td>36</td>\n",
       "      <td>CASADO</td>\n",
       "      <td>Yucatán</td>\n",
       "      <td>1 a 999            habitantes</td>\n",
       "      <td>NO OCUPADOS</td>\n",
       "      <td>PRIMARIA INCOMPLETA</td>\n",
       "      <td>NINGUNA</td>\n",
       "      <td>Yucatán</td>\n",
       "    </tr>\n",
       "    <tr>\n",
       "      <th>4</th>\n",
       "      <td>30</td>\n",
       "      <td>CASADO</td>\n",
       "      <td>Distrito Federal</td>\n",
       "      <td>No Especificado.</td>\n",
       "      <td>NO OCUPADOS</td>\n",
       "      <td>SECUNDARIA INCOMPLETA</td>\n",
       "      <td>NINGUNA</td>\n",
       "      <td>Distrito Federal</td>\n",
       "    </tr>\n",
       "  </tbody>\n",
       "</table>\n",
       "</div>"
      ],
      "text/plain": [
       "   Edad cumplida Descripción del estado conyugal  \\\n",
       "0             29                          CASADO   \n",
       "1             35                          CASADO   \n",
       "2             29                          CASADO   \n",
       "3             36                          CASADO   \n",
       "4             30                          CASADO   \n",
       "\n",
       "  Descripción de entidad de residencia Descripción del tamaño de localidad  \\\n",
       "0                              Yucatán          30000 a 39999   habitantes   \n",
       "1                              Yucatán          30000 a 39999   habitantes   \n",
       "2                              Yucatán           2500 a 4999    habitantes   \n",
       "3                              Yucatán       1 a 999            habitantes   \n",
       "4                     Distrito Federal                    No Especificado.   \n",
       "\n",
       "  Descripción de la ocupación habitual Descripción de la escolaridad  \\\n",
       "0                          NO OCUPADOS           PRIMARIA INCOMPLETA   \n",
       "1                          NO OCUPADOS           PRIMARIA INCOMPLETA   \n",
       "2                          NO OCUPADOS           PRIMARIA INCOMPLETA   \n",
       "3                          NO OCUPADOS           PRIMARIA INCOMPLETA   \n",
       "4                          NO OCUPADOS         SECUNDARIA INCOMPLETA   \n",
       "\n",
       "  Descrición de la derechiahabiencia Descripción de la entidad de ocurrencia  \n",
       "0                            NINGUNA                                 Yucatán  \n",
       "1                            NINGUNA                                 Yucatán  \n",
       "2                            NINGUNA                                 Yucatán  \n",
       "3                            NINGUNA                                 Yucatán  \n",
       "4                            NINGUNA                        Distrito Federal  "
      ]
     },
     "execution_count": 56,
     "metadata": {},
     "output_type": "execute_result"
    }
   ],
   "source": [
    "#Aquí generamos la primera base de datos:\n",
    "Social = Mortalidad.drop([\"Año de nacimiento\", \"Mes de nacimiento\", \"Descripción del mes de nacimiento\", \"Día de nacimiento\", \"Genero\", \"Clave de la edad\", \"Estado conyugal\", \"Entidad de residencia\", \"Municipio de residencia\", \"Descripción del municipio de residencia\", \"Localidad de residencia\", \"Descripión de la localidad de residencia\", \"Tamaño de localidad\", \"Ocupación habitual\", \"Escolaridad\", \"Derechiahabiencia\", \"Entidad de ocurrencia\", \"Municipio de ocurrencia\", \"Descrición del municipio de ocurrencia\", \"Localidad de ocurrencia\", \"Descrición de la localidad de ocurrencia\", \"Sitio donde ocurrio la defunción\", \"Descripción del sitio donde ocurrio la defunción\", \"Año de la defunción\", \"Mes de la defunción\", \"Descrición del mes de la defunción\", \"Día de la defunción\", \"Hora de la defunción\", \"Minutos de la defunción\", \"Asistencia médica\", \"Descripción de la asistencia médica\", \"Causa CIE a  cuarto dígito\", \"Descrición de la causa CIE\", \"Quien certificó\", \"Descrición de quien certificó\", \"Entidad de registro\", \"Descrición de la entidad de registro\", \"Municipio de registro\", \"Descrición del municipio de registro\", \"Año de registro\", \"Mes de registro\", \"Descripción del mes de registro\", \"Día de registro\", \"Año de la certificación\", \"Mes de la certificación\", \"Descripció del mes de la certificación\", \"Día de la certificación\", \"Año de la base de datos\", \"Razón de mortalidad materna\", \"Descrición de la razón de mortalidad materna\"],axis=1)\n",
    "\n",
    "Social.head()"
   ]
  },
  {
   "cell_type": "markdown",
   "metadata": {},
   "source": [
    "En  esta base de datos tenemos información como Edad, estado civil, entidad de residencia, tamaño de la localidad, ocupación habitual, escolaridad, derechohabientes y entiedad de ocurrencia.\n",
    "\n",
    "Con esta tabla obtendría indicadores que me permitieran visualizar si el entorno está relacionado con una mayor mortalidad.\n",
    "¿Existen profesiones que son más propensas a tener estos percanses?\n",
    "¿Cómo influye el contar con los servicios de derechohabiente?\n",
    "¿Hay mayor incidencia en los estados norte, centro o sur del pais de estos casos?\n",
    "¿Afecta si las personas se desplazan?\n",
    "¿Cómo impacta la edad de las madres?\n",
    "¿Afecta si se trata de una comunidad pequeña o de una gran metrópli?\n",
    "¿El bajo nivel educativo es un detonante para que estos casos se presenten?\n",
    "\n",
    "\n",
    "Para nuestra segunda aproximación estaremos trabajando con los valores de:\n",
    "Año de nacimiento\n",
    "Mes de nacimiento\n",
    "Día de nacimiento\n",
    "Genero\n",
    "Descripción del sitio donde ocurrio la defunción\n",
    "Año de la defunción\n",
    "Mes de la defunción\n",
    "Día de la defunción\n",
    "Hora de la defunción\n",
    "Minutos de la defunción\n",
    "Descripción de la asistencia médica\n",
    "Descrición de la causa CIE\n",
    "Causa de Muerte"
   ]
  },
  {
   "cell_type": "code",
   "execution_count": 58,
   "metadata": {},
   "outputs": [
    {
     "data": {
      "text/html": [
       "<div>\n",
       "<style scoped>\n",
       "    .dataframe tbody tr th:only-of-type {\n",
       "        vertical-align: middle;\n",
       "    }\n",
       "\n",
       "    .dataframe tbody tr th {\n",
       "        vertical-align: top;\n",
       "    }\n",
       "\n",
       "    .dataframe thead th {\n",
       "        text-align: right;\n",
       "    }\n",
       "</style>\n",
       "<table border=\"1\" class=\"dataframe\">\n",
       "  <thead>\n",
       "    <tr style=\"text-align: right;\">\n",
       "      <th></th>\n",
       "      <th>Año de nacimiento</th>\n",
       "      <th>Mes de nacimiento</th>\n",
       "      <th>Día de nacimiento</th>\n",
       "      <th>Genero</th>\n",
       "      <th>Descripción del sitio donde ocurrio la defunción</th>\n",
       "      <th>Año de la defunción</th>\n",
       "      <th>Mes de la defunción</th>\n",
       "      <th>Descrición del mes de la defunción</th>\n",
       "      <th>Día de la defunción</th>\n",
       "      <th>Hora de la defunción</th>\n",
       "      <th>Minutos de la defunción</th>\n",
       "      <th>Descrición de la causa CIE</th>\n",
       "      <th>Descrición de la razón de mortalidad materna</th>\n",
       "    </tr>\n",
       "  </thead>\n",
       "  <tbody>\n",
       "    <tr>\n",
       "      <th>0</th>\n",
       "      <td>1972</td>\n",
       "      <td>6</td>\n",
       "      <td>25</td>\n",
       "      <td>2</td>\n",
       "      <td>OTRA UNIDAD PUBLICA</td>\n",
       "      <td>2002</td>\n",
       "      <td>1</td>\n",
       "      <td>ENERO</td>\n",
       "      <td>9</td>\n",
       "      <td>19</td>\n",
       "      <td>0</td>\n",
       "      <td>O994  Enfermedades del sistema circulatorio qu...</td>\n",
       "      <td>Muertes Maternas para la razón de Mortalidad M...</td>\n",
       "    </tr>\n",
       "    <tr>\n",
       "      <th>1</th>\n",
       "      <td>1967</td>\n",
       "      <td>2</td>\n",
       "      <td>1</td>\n",
       "      <td>2</td>\n",
       "      <td>OTRA UNIDAD PUBLICA</td>\n",
       "      <td>2002</td>\n",
       "      <td>7</td>\n",
       "      <td>JULIO</td>\n",
       "      <td>28</td>\n",
       "      <td>9</td>\n",
       "      <td>30</td>\n",
       "      <td>O141  Preeclampsia severa</td>\n",
       "      <td>Muertes Maternas para la razón de Mortalidad M...</td>\n",
       "    </tr>\n",
       "    <tr>\n",
       "      <th>2</th>\n",
       "      <td>1973</td>\n",
       "      <td>6</td>\n",
       "      <td>21</td>\n",
       "      <td>2</td>\n",
       "      <td>OTRA UNIDAD PUBLICA</td>\n",
       "      <td>2002</td>\n",
       "      <td>10</td>\n",
       "      <td>OCTUBRE</td>\n",
       "      <td>24</td>\n",
       "      <td>4</td>\n",
       "      <td>30</td>\n",
       "      <td>O159  Eclampsia, en período no especificado</td>\n",
       "      <td>Muertes Maternas para la razón de Mortalidad M...</td>\n",
       "    </tr>\n",
       "    <tr>\n",
       "      <th>3</th>\n",
       "      <td>1966</td>\n",
       "      <td>1</td>\n",
       "      <td>23</td>\n",
       "      <td>2</td>\n",
       "      <td>OTRA UNIDAD PUBLICA</td>\n",
       "      <td>2002</td>\n",
       "      <td>10</td>\n",
       "      <td>OCTUBRE</td>\n",
       "      <td>20</td>\n",
       "      <td>11</td>\n",
       "      <td>15</td>\n",
       "      <td>O159  Eclampsia, en período no especificado</td>\n",
       "      <td>Muertes Maternas para la razón de Mortalidad M...</td>\n",
       "    </tr>\n",
       "    <tr>\n",
       "      <th>4</th>\n",
       "      <td>1975</td>\n",
       "      <td>0</td>\n",
       "      <td>0</td>\n",
       "      <td>2</td>\n",
       "      <td>SECRETARIA DE SALUD</td>\n",
       "      <td>2005</td>\n",
       "      <td>4</td>\n",
       "      <td>ABRIL</td>\n",
       "      <td>8</td>\n",
       "      <td>2</td>\n",
       "      <td>10</td>\n",
       "      <td>O266  Trastornos del hígado en el embarazo, el...</td>\n",
       "      <td>Muertes Maternas para la razón de Mortalidad M...</td>\n",
       "    </tr>\n",
       "  </tbody>\n",
       "</table>\n",
       "</div>"
      ],
      "text/plain": [
       "   Año de nacimiento  Mes de nacimiento  Día de nacimiento  Genero  \\\n",
       "0               1972                  6                 25       2   \n",
       "1               1967                  2                  1       2   \n",
       "2               1973                  6                 21       2   \n",
       "3               1966                  1                 23       2   \n",
       "4               1975                  0                  0       2   \n",
       "\n",
       "  Descripción del sitio donde ocurrio la defunción  Año de la defunción  \\\n",
       "0                              OTRA UNIDAD PUBLICA                 2002   \n",
       "1                              OTRA UNIDAD PUBLICA                 2002   \n",
       "2                              OTRA UNIDAD PUBLICA                 2002   \n",
       "3                              OTRA UNIDAD PUBLICA                 2002   \n",
       "4                              SECRETARIA DE SALUD                 2005   \n",
       "\n",
       "   Mes de la defunción Descrición del mes de la defunción  \\\n",
       "0                    1                              ENERO   \n",
       "1                    7                              JULIO   \n",
       "2                   10                            OCTUBRE   \n",
       "3                   10                            OCTUBRE   \n",
       "4                    4                              ABRIL   \n",
       "\n",
       "   Día de la defunción  Hora de la defunción  Minutos de la defunción  \\\n",
       "0                    9                    19                        0   \n",
       "1                   28                     9                       30   \n",
       "2                   24                     4                       30   \n",
       "3                   20                    11                       15   \n",
       "4                    8                     2                       10   \n",
       "\n",
       "                          Descrición de la causa CIE  \\\n",
       "0  O994  Enfermedades del sistema circulatorio qu...   \n",
       "1                          O141  Preeclampsia severa   \n",
       "2        O159  Eclampsia, en período no especificado   \n",
       "3        O159  Eclampsia, en período no especificado   \n",
       "4  O266  Trastornos del hígado en el embarazo, el...   \n",
       "\n",
       "        Descrición de la razón de mortalidad materna  \n",
       "0  Muertes Maternas para la razón de Mortalidad M...  \n",
       "1  Muertes Maternas para la razón de Mortalidad M...  \n",
       "2  Muertes Maternas para la razón de Mortalidad M...  \n",
       "3  Muertes Maternas para la razón de Mortalidad M...  \n",
       "4  Muertes Maternas para la razón de Mortalidad M...  "
      ]
     },
     "execution_count": 58,
     "metadata": {},
     "output_type": "execute_result"
    }
   ],
   "source": [
    "#Aquí generamos la segunda base de datos:\n",
    "Suceso = Mortalidad.drop([ \"Descripción del mes de nacimiento\",  \"Clave de la edad\", \"Estado conyugal\", \"Entidad de residencia\", \"Municipio de residencia\", \"Descripción del municipio de residencia\", \"Localidad de residencia\", \"Descripión de la localidad de residencia\", \"Tamaño de localidad\", \"Ocupación habitual\", \"Escolaridad\", \"Derechiahabiencia\", \"Entidad de ocurrencia\", \"Municipio de ocurrencia\", \"Descrición del municipio de ocurrencia\", \"Localidad de ocurrencia\", \"Descrición de la localidad de ocurrencia\", \"Sitio donde ocurrio la defunción\",   \"Asistencia médica\", \"Descripción de la asistencia médica\", \"Causa CIE a  cuarto dígito\",  \"Quien certificó\", \"Descrición de quien certificó\", \"Entidad de registro\", \"Descrición de la entidad de registro\", \"Municipio de registro\", \"Descrición del municipio de registro\", \"Año de registro\", \"Mes de registro\", \"Descripción del mes de registro\", \"Día de registro\", \"Año de la certificación\", \"Mes de la certificación\", \"Descripció del mes de la certificación\", \"Día de la certificación\", \"Año de la base de datos\", \"Razón de mortalidad materna\", \"Edad cumplida\",\"Descripción del estado conyugal\",\"Descripción de entidad de residencia\",\"Descripción del tamaño de localidad\",\"Descripción de la entidad de ocurrencia\",\"Descripción de la ocupación habitual\",\"Descripción de la escolaridad\",\"Descrición de la derechiahabiencia\"],axis=1)\n",
    "\n",
    "Suceso.head()"
   ]
  },
  {
   "cell_type": "markdown",
   "metadata": {},
   "source": [
    "A través de esta información buscamos generar la información del suceso que se presentó, a raíz de ella podemos realizar preguntas como:\n",
    "\n",
    "¿Qué edad tenía el niño al morir?\n",
    "¿Cuál es la mayor incidencia de muertes, en hombres o en mujeres?\n",
    "¿Dónde estaban cuando la muerte se presentó?\n",
    "¿Existe algún mes en que se presenten más muertes infantiles?\n",
    "¿Algún día tendrá mayor incidencia?\n",
    "¿La hora impactará en lo sucedido?\n",
    "¿Cómo impacta las complicaciones del embarazo en la tasa infantil?\n",
    "¿Cuál es la principal causa de muerte?\n",
    "\n",
    "Obviamente existen muchas manera de abordar una base de datos como esta, pero el objetivo es visualizar de manera general lo que está ocurriendo."
   ]
  },
  {
   "cell_type": "code",
   "execution_count": null,
   "metadata": {},
   "outputs": [],
   "source": [
    "### 5.- Establecer las preguntas a resolver de tipo multivariables \n",
    "Para realizar esta revisión, se estarán trabajando tanto con análisis estadístico como con gráficas que nos permitan visualizar la manera en que trabajan estas variables.\n",
    "\n",
    "- Gráfica lineal que nos muestre la tendencia de mortalidad con el paso de los años.\n",
    "\n",
    "- ¿Existe relación entre la edad de la madre y el año de defunción?\n",
    "\n",
    "- ¿Qué entidad tiene la mayor incidencia de casos donde ocurren defunciones?. \n",
    "\n",
    "- ¿Cómo afecta la Edad de la madre por cada entidad? \n",
    "\n",
    "- ¿Hay relación entre la hora de defunción, la edad de la madre, entidad y la causa de muerte?\n",
    "\n",
    "\n",
    "\n"
   ]
  },
  {
   "cell_type": "markdown",
   "metadata": {},
   "source": [
    "Gráfica lineal que nos muestre la tendencia de mortalidad con el paso de los años\n"
   ]
  },
  {
   "cell_type": "code",
   "execution_count": 63,
   "metadata": {},
   "outputs": [
    {
     "data": {
      "image/png": "[encoded data removed]",
      "text/plain": [
       "<Figure size 432x288 with 1 Axes>"
      ]
     },
     "metadata": {
      "needs_background": "light"
     },
     "output_type": "display_data"
    }
   ],
   "source": [
    "Suceso[\"Año de la defunción\"].plot(kind=\"density\")\n",
    "plt.xlabel(\"Año de la defunción\")\n",
    "plt.ylabel(\"muertes\")\n",
    "plt.title (\"Tendencia de las defunciones a través de los años\")\n",
    "plt.show()"
   ]
  },
  {
   "cell_type": "markdown",
   "metadata": {},
   "source": [
    "Como se puede ver, es dificil visualizar esta gráfica, pues los rangos por los años que no se encuentran correctamente cargados.  Primeramente se tendría que hacer una depuración de la base de datos, para aplicar un nAn a estos datos."
   ]
  },
  {
   "cell_type": "markdown",
   "metadata": {},
   "source": [
    "¿Existe relación entre la edad de la madre y el año de defunción?"
   ]
  },
  {
   "cell_type": "code",
   "execution_count": 64,
   "metadata": {},
   "outputs": [
    {
     "data": {
      "text/plain": [
       "<matplotlib.axes._subplots.AxesSubplot at 0x11da589e8>"
      ]
     },
     "execution_count": 64,
     "metadata": {},
     "output_type": "execute_result"
    },
    {
     "data": {
      "image/png": "[encoded data removed]",
      "text/plain": [
       "<Figure size 432x288 with 1 Axes>"
      ]
     },
     "metadata": {
      "needs_background": "light"
     },
     "output_type": "display_data"
    }
   ],
   "source": [
    "Mortalidad.plot.scatter(\"Edad cumplida\",\"Año de la defunción\")"
   ]
  },
  {
   "cell_type": "markdown",
   "metadata": {},
   "source": [
    "Al igual que en el caso anterior, se puede observar que la densidad se extiende mucho por los valores fuera de rango, es necesario depurar la base de datos para que la información presentada sea más relevante."
   ]
  },
  {
   "cell_type": "markdown",
   "metadata": {},
   "source": [
    "¿Qué entidad tiene la mayor incidencia de casos donde ocurren defunciones?"
   ]
  },
  {
   "cell_type": "code",
   "execution_count": null,
   "metadata": {},
   "outputs": [],
   "source": [
    "Conteo = (sum(\"Descripción de la entidad de ocurrencia\"))\n",
    "\n",
    "Mortalidad.plot(kind=\"hist\")\n",
    "plt.xlabel(\"Descripción de la entidad de ocurrencia\")\n",
    "plt.ylabel(\"Conteo\")\n",
    "plt.title (\"Distribución de la mortalidad por entidad\")\n",
    "plt.show()"
   ]
  },
  {
   "cell_type": "code",
   "execution_count": null,
   "metadata": {},
   "outputs": [],
   "source": [
    "¿Cómo afecta la Edad de la madre por cada entidad?"
   ]
  },
  {
   "cell_type": "code",
   "execution_count": null,
   "metadata": {},
   "outputs": [],
   "source": [
    "Mortalidad.plot(kind=\"bar\")\n",
    "plt.xlabel(\"Descripción de la entidad de ocurrencia\")\n",
    "plt.ylabel(\"Edad Cumplida\")\n",
    "plt.title (\"Distribución de la mortalidad por la edad de acuerdo a la edad de la madre por entidad\")\n",
    "plt.show()"
   ]
  }
 ],
 "metadata": {
  "kernelspec": {
   "display_name": "Python 3",
   "language": "python",
   "name": "python3"
  },
  "language_info": {
   "codemirror_mode": {
    "name": "ipython",
    "version": 3
   },
   "file_extension": ".py",
   "mimetype": "text/x-python",
   "name": "python",
   "nbconvert_exporter": "python",
   "pygments_lexer": "ipython3",
   "version": "3.7.0"
  }
 },
 "nbformat": 4,
 "nbformat_minor": 2
}
